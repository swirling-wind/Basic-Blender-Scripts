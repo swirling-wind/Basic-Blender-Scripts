{
 "cells": [
  {
   "attachments": {},
   "cell_type": "markdown",
   "id": "a9e02a0c-6819-4ed6-bed8-04e31171e678",
   "metadata": {},
   "source": [
    "# Demo - Jupyter Blender\n"
   ]
  },
  {
   "cell_type": "code",
   "execution_count": 43,
   "id": "e110cc9d-a81b-491d-97d6-6c9040e6835f",
   "metadata": {},
   "outputs": [],
   "source": [
    "import bpy\n",
    "cube = bpy.data.objects['Cube']"
   ]
  },
  {
   "cell_type": "code",
   "execution_count": 44,
   "id": "2d5b8c38-4433-4f46-87f8-5053b5d57e41",
   "metadata": {},
   "outputs": [
    {
     "data": {
      "application/vnd.jupyter.widget-view+json": {
       "model_id": "a1d1c30276674fbfb880e1752c6a6a15",
       "version_major": 2,
       "version_minor": 1
      },
      "text/plain": [
       "CounterWidget(value=-2)"
      ]
     },
     "execution_count": 44,
     "metadata": {},
     "output_type": "execute_result"
    }
   ],
   "source": [
    "import anywidget\n",
    "import traitlets\n",
    "\n",
    "class CounterWidget(anywidget.AnyWidget):\n",
    "    _esm = \"\"\"\n",
    "    function render({ model, el }) {\n",
    "      let button = document.createElement(\"button\");\n",
    "      button.innerHTML = `count is ${model.get(\"value\")}`;\n",
    "      button.addEventListener(\"click\", () => {\n",
    "        model.set(\"value\", model.get(\"value\") + 1);\n",
    "        model.save_changes();\n",
    "      });\n",
    "      model.on(\"change:value\", () => {\n",
    "        button.innerHTML = `count is ${model.get(\"value\")}`;\n",
    "      });\n",
    "      el.classList.add(\"counter-widget\");\n",
    "      el.appendChild(button);\n",
    "    }\n",
    "    export default { render };\n",
    "    \"\"\"\n",
    "    _css = \"\"\"\n",
    "    .counter-widget button { color: red; font-size: 1.75rem; background-color: #ffeb3b; padding: 0.5rem 1rem; border: none; border-radius: 0.25rem; }\n",
    "    .counter-widget button:hover { background-color: #fbc02d; }\n",
    "    \"\"\"\n",
    "    value = traitlets.Int(0).tag(sync=True)\n",
    "\n",
    "def update_cube_position(counter_value):\n",
    "    # Calculate z position based on counter value\n",
    "    z_shift = counter_value * 0.5\n",
    "    \n",
    "    # Update the cube's z position\n",
    "    cube.location.z = z_shift\n",
    "    \n",
    "    # Update the view\n",
    "    bpy.context.view_layer.update()\n",
    "\n",
    "# Function to handle counter value changes\n",
    "def on_counter_change(change):\n",
    "    update_cube_position(change['new'])\n",
    "    bpy.context.view_layer.update()\n",
    "\n",
    "widget = CounterWidget(value=-2)\n",
    "# Observe the counter\n",
    "widget.observe(on_counter_change, names='value')\n",
    "\n",
    "# Initial update of the cube's position\n",
    "update_cube_position(widget.value)\n",
    "\n",
    "widget "
   ]
  },
  {
   "cell_type": "code",
   "execution_count": null,
   "id": "f3064d61",
   "metadata": {},
   "outputs": [],
   "source": [
    "s"
   ]
  }
 ],
 "metadata": {
  "kernelspec": {
   "display_name": "Python 3 (ipykernel)",
   "language": "python",
   "name": "python3"
  },
  "language_info": {
   "codemirror_mode": {
    "name": "ipython",
    "version": 3
   },
   "file_extension": ".py",
   "mimetype": "text/x-python",
   "name": "python",
   "nbconvert_exporter": "python",
   "pygments_lexer": "ipython3",
   "version": "3.11.11"
  }
 },
 "nbformat": 4,
 "nbformat_minor": 5
}
