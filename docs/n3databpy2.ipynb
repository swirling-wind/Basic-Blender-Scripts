{
 "cells": [
  {
   "cell_type": "markdown",
   "metadata": {},
   "source": [
    "# DataBpy 2\n",
    "https://github.com/BradyAJohnston/databpy"
   ]
  },
  {
   "cell_type": "code",
   "execution_count": 109,
   "metadata": {},
   "outputs": [
    {
     "name": "stdout",
     "output_type": "stream",
     "text": [
      "Blender version: 4.4.3\n",
      "Databpy version: 0.0.18\n"
     ]
    }
   ],
   "source": [
    "import bpy\n",
    "print(\"Blender version:\", bpy.app.version_string)   # current blender version\n",
    "import importlib.metadata\n",
    "print(\"Databpy version:\", importlib.metadata.version(\"databpy\"))\n"
   ]
  },
  {
   "cell_type": "code",
   "execution_count": 110,
   "metadata": {},
   "outputs": [
    {
     "data": {
      "text/plain": [
       "'Mesh1'"
      ]
     },
     "execution_count": 110,
     "metadata": {},
     "output_type": "execute_result"
    }
   ],
   "source": [
    "import numpy as np\n",
    "import databpy as db\n",
    "\n",
    "vertex = np.array([[0, 0, 0]])  \n",
    "obj = db.create_bob(vertex, name=\"Mesh1\")\n",
    "obj.name"
   ]
  },
  {
   "cell_type": "code",
   "execution_count": 111,
   "metadata": {},
   "outputs": [
    {
     "data": {
      "text/plain": [
       "array([[0., 0., 0.]])"
      ]
     },
     "execution_count": 111,
     "metadata": {},
     "output_type": "execute_result"
    }
   ],
   "source": [
    "obj.position"
   ]
  },
  {
   "cell_type": "code",
   "execution_count": 112,
   "metadata": {},
   "outputs": [
    {
     "data": {
      "text/plain": [
       "'Mesh2'"
      ]
     },
     "execution_count": 112,
     "metadata": {},
     "output_type": "execute_result"
    }
   ],
   "source": [
    "import numpy as np\n",
    "import databpy as db\n",
    "\n",
    "coords = np.random.rand(20, 3)  \n",
    "obj = db.create_bob(coords, name=\"Mesh2\")\n",
    "obj.name"
   ]
  },
  {
   "cell_type": "code",
   "execution_count": 113,
   "metadata": {},
   "outputs": [
    {
     "data": {
      "text/plain": [
       "array([[0.85635167, 0.50563103, 0.94801462],\n",
       "       [0.98673707, 0.94620389, 0.14079188],\n",
       "       [0.40638462, 0.20826402, 0.07702765]])"
      ]
     },
     "execution_count": 113,
     "metadata": {},
     "output_type": "execute_result"
    }
   ],
   "source": [
    "obj.position[:3] # first three"
   ]
  },
  {
   "cell_type": "code",
   "execution_count": 114,
   "metadata": {},
   "outputs": [
    {
     "name": "stdout",
     "output_type": "stream",
     "text": [
      "Mesh2M\n",
      "CPU times: user 711 ms, sys: 44.5 ms, total: 755 ms\n",
      "Wall time: 760 ms\n"
     ]
    }
   ],
   "source": [
    "%%time\n",
    "import numpy as np\n",
    "import databpy as db\n",
    "\n",
    "# Generate 2 million random 3D points\n",
    "coords = np.random.rand(2_000_000, 3)\n",
    "\n",
    "# Create a mesh object using databpy\n",
    "obj = db.create_bob(coords, name=\"Mesh2M\")\n",
    "print(obj.name)"
   ]
  },
  {
   "cell_type": "markdown",
   "metadata": {},
   "source": [
    "# Setting Attributes\n",
    "\n",
    "To run the code below, first install the Blender extension from the following link:\n",
    "https://extensions.blender.org/add-ons/csv-importer/"
   ]
  },
  {
   "cell_type": "code",
   "execution_count": 115,
   "metadata": {},
   "outputs": [],
   "source": [
    "import numpy as np\n",
    "import polars as pl\n",
    "from csv_importer.parsers import polars_df_to_bob\n",
    "\n",
    "df = pl.DataFrame(\n",
    "    {\n",
    "        \"Intensity\": [10, 20],\n",
    "    }\n",
    ")\n",
    "bob = polars_df_to_bob(df, name=\"MeshInt\")"
   ]
  },
  {
   "cell_type": "code",
   "execution_count": 116,
   "metadata": {},
   "outputs": [],
   "source": [
    "import numpy as np\n",
    "import polars as pl\n",
    "from csv_importer.parsers import polars_df_to_bob\n",
    "\n",
    "df = pl.DataFrame(\n",
    "    {\n",
    "        \"opacity\": [0.34, 0.92],\n",
    "    }\n",
    ")\n",
    "bob = polars_df_to_bob(df, name=\"MeshFloat\")"
   ]
  },
  {
   "cell_type": "code",
   "execution_count": 117,
   "metadata": {},
   "outputs": [],
   "source": [
    "import numpy as np\n",
    "import polars as pl\n",
    "from csv_importer.parsers import polars_df_to_bob\n",
    "\n",
    "df = pl.DataFrame(\n",
    "    {\n",
    "        \"Is_Visible\": [True, False],\n",
    "    }\n",
    ")\n",
    "bob = polars_df_to_bob(df, name=\"MeshBool\")"
   ]
  },
  {
   "cell_type": "code",
   "execution_count": 118,
   "metadata": {},
   "outputs": [],
   "source": [
    "import numpy as np\n",
    "import polars as pl\n",
    "from csv_importer.parsers import polars_df_to_bob\n",
    "\n",
    "df = pl.DataFrame({\n",
    "    \"Star\": [\n",
    "        [3.4, 3.5, 0.0],\n",
    "        [3.1, 5.6, 0.0]\n",
    "    ]\n",
    "})\n",
    "obj = polars_df_to_bob(df, name=\"MeshVector\")"
   ]
  },
  {
   "cell_type": "code",
   "execution_count": 119,
   "metadata": {},
   "outputs": [],
   "source": [
    "import numpy as np\n",
    "import polars as pl\n",
    "from csv_importer.parsers import polars_df_to_bob\n",
    "\n",
    "df = pl.DataFrame({\n",
    "    \"String\": [\"Hello\", \"World\"],\n",
    "})\n",
    "# Stings are not supported\n",
    "obj = polars_df_to_bob(df, name=\"MeshVector\")"
   ]
  },
  {
   "cell_type": "code",
   "execution_count": 120,
   "metadata": {},
   "outputs": [],
   "source": [
    "# all together\n",
    "import numpy as np\n",
    "import polars as pl\n",
    "from csv_importer.parsers import polars_df_to_bob\n",
    "\n",
    "df = pl.DataFrame({\n",
    "    \"Intensity\": [10, 20],\n",
    "    \"opacity\": [0.34, 0.92],\n",
    "    \"Is_Visible\": [True, False],\n",
    "    \"Star\": [\n",
    "        [3.4, 3.5, 0.0],\n",
    "        [3.1, 5.6, 0.0]\n",
    "    ]\n",
    "})\n",
    "obj = polars_df_to_bob(df, name=\"MeshVector\")"
   ]
  },
  {
   "cell_type": "code",
   "execution_count": 123,
   "metadata": {},
   "outputs": [
    {
     "name": "stdout",
     "output_type": "stream",
     "text": [
      "CSV_data_california_housing_normalized\n"
     ]
    }
   ],
   "source": [
    "from pathlib import Path\n",
    "from csv_importer.csv import load_csv\n",
    "\n",
    "csv_path = Path.home() / \"projects\" / \"blender_csv_import\" / \"docs\" / \"sample_datasets\" / \"data_california_housing_normalized.csv\"\n",
    "\n",
    "# `load_csv` is like `like polars_df_to_bob`, but with a csv path input\n",
    "obj = load_csv(csv_path) \n",
    " \n",
    "print(obj.name)"
   ]
  },
  {
   "cell_type": "code",
   "execution_count": null,
   "metadata": {},
   "outputs": [],
   "source": []
  }
 ],
 "metadata": {
  "kernelspec": {
   "display_name": "Python 3 (ipykernel)",
   "language": "python",
   "name": "python3"
  }
 },
 "nbformat": 4,
 "nbformat_minor": 4
}
