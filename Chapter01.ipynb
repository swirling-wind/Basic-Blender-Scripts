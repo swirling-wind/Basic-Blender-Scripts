{
 "cells": [
  {
   "cell_type": "code",
   "execution_count": null,
   "id": "6f0928a3",
   "metadata": {},
   "outputs": [],
   "source": [
    "byp = {}"
   ]
  },
  {
   "cell_type": "markdown",
   "id": "3d4c61a2",
   "metadata": {},
   "source": [
    "## Blender Console and Script Editor "
   ]
  },
  {
   "cell_type": "code",
   "execution_count": null,
   "id": "bff4b276",
   "metadata": {},
   "outputs": [],
   "source": [
    "import bpy\n",
    "from bpy import data as D\n",
    "from bpy import context as C\n",
    "from mathutils import *\n",
    "from math import *\n",
    "\n",
    "cube = byp.context.scene.objects[\"Cube\"]\n",
    "#! Traceback (most recent call last):\n",
    "#!   File \"<blender_console>\", line 1, in <module>\n",
    "#! NameError: name 'byp' is not defined\n",
    "#! \n",
    "cube = bpy.context.scene.objects[\"Cube\"]\n",
    "import bmesh\n",
    "bm = bmesh.from_edit_mesh(cube.data)\n",
    "len(bm.verts)\n",
    "#~ 8\n",
    "#~ \n",
    "v = bm.verts[3]\n",
    "v.index\n",
    "#~ 3\n",
    "#~ \n",
    "v\n",
    "#~ <BMVert(0x00000264F4D36B78), index=3>\n",
    "#~ \n",
    "v.co\n",
    "#~ Vector((1.0, -1.0, -1.0))\n",
    "#~ \n",
    "v.co\n",
    "#~ Vector((1.0, -1.0, -1.0))\n",
    "#~ \n",
    "v.co[1] += 1\n",
    "bmesh.update_edit_mesh(cube.data)"
   ]
  },
  {
   "cell_type": "markdown",
   "id": "76b061d0",
   "metadata": {},
   "source": [
    "## (Archive) Material Nodes' Info Printer"
   ]
  },
  {
   "cell_type": "code",
   "execution_count": null,
   "id": "9c9214a4",
   "metadata": {},
   "outputs": [],
   "source": [
    "import bpy\n",
    "from bpy import data as D\n",
    "from bpy import context as C\n",
    "from mathutils import *\n",
    "from math import *\n",
    "\n",
    "cube = byp.context.scene.objects[\"Cube\"]\n",
    "#! Traceback (most recent call last):\n",
    "#!   File \"<blender_console>\", line 1, in <module>\n",
    "#! NameError: name 'byp' is not defined\n",
    "#! \n",
    "cube = bpy.context.scene.objects[\"Cube\"]\n",
    "import bmesh\n",
    "bm = bmesh.from_edit_mesh(cube.data)\n",
    "len(bm.verts)\n",
    "#~ 8\n",
    "#~ \n",
    "v = bm.verts[3]\n",
    "v.index\n",
    "#~ 3\n",
    "#~ \n",
    "v\n",
    "#~ <BMVert(0x00000264F4D36B78), index=3>\n",
    "#~ \n",
    "v.co\n",
    "#~ Vector((1.0, -1.0, -1.0))\n",
    "#~ \n",
    "v.co\n",
    "#~ Vector((1.0, -1.0, -1.0))\n",
    "#~ \n",
    "v.co[1] += 1\n",
    "bmesh.update_edit_mesh(cube.data)"
   ]
  }
 ],
 "metadata": {
  "language_info": {
   "name": "python"
  }
 },
 "nbformat": 4,
 "nbformat_minor": 5
}
